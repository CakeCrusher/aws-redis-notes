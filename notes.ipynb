{
 "cells": [
  {
   "cell_type": "markdown",
   "metadata": {},
   "source": [
    "- called remote dictionary store\n",
    "- its a key value data store\n",
    "- used in gameing due to its fast performance\n",
    "- 2 aws services\n",
    "  - amazon memorydb for redis\n",
    "    - redis compatible in memory database service\n",
    "  - amazon elasticache for redis\n",
    "    - in memory database service\n",
    "- elasticache is for in-memory data store\n",
    "- big o notation the o stands for order of magnitude\n",
    "# Elasticache\n",
    "- its fully managed\n",
    "- fully managed service\n",
    "  - no need to manage the underlying infrastructure\n",
    "- extremely fast\n",
    "- engines\n",
    "  - accepts memcached\n",
    "    - works by LRU\n",
    "    - key value store\n",
    "    - input format \"set key flags expiry bytes\"\n",
    "  - redis\n",
    "    - several accepted data structures\n",
    "    - accepts asynchrnous operations\\\n",
    "    - scalable     \n",
    "# why need in-memory data store\n",
    "- memory is 50x faster\n",
    "- no need for query processing overhead\n",
    "- its key based\n",
    "- people cannot tolerate waiting for a few seconds\n",
    "- networks can bottleneck speeds\n",
    "# redis\n",
    "- start a redist docker container to work with\n",
    "  - `docker run -p 6379:6379 -d --name myredis redis`\n",
    "- databases store data in an inert form where as redis does not\n",
    "- the data can stored as an kept encoded\n",
    "  - encoding is to transform data into something easier to transfer\n",
    "- caching\n",
    "  - improves read performance\n",
    "  - if calling directly from the database the reads and writes compete for the same resources\n",
    "  - can cache s3 objects\n",
    "  - successfully retrieving data from the cache is called a cache hit\n",
    "    - otherwise its a cache miss\n",
    "      - data could have been evicted  \n",
    "  - use cases\n",
    "    - lazy loading\n",
    "      - asks for data from cache\n",
    "        - if cache miss\n",
    "          - asks for data from database\n",
    "              - return the data\n",
    "                - store the data in the cache\n",
    "        - if cache hit\n",
    "          - return the data\n",
    "      - advantages\n",
    "        - constantly repopulated\n",
    "        - avoids unecessary data in cache\n",
    "      - disadvantages\n",
    "        - misses can be expensive\n",
    "        - fresh data will make it less likely for cache to store it\n",
    "    - ask for website data from cache\n",
    "- session store\n",
    "  - storing tokens, shopping carts, and other user data\n",
    "  - hash can store user info\n",
    "    - can edit without changing whole object\n",
    "- leaderboards\n",
    "  - redis sorts data on insertion\n",
    "  - O(log n) time complexity\n",
    "- geospatial\n",
    "  - lets you store coordinates avia geospatial indexes\n",
    "  - useful for finding nearby points\n",
    "- message queues\n",
    "  - pushes tasks to another server via a queue  \n",
    "- machine learning\n",
    "  - submillisecond access to models\n",
    "- media streaming\n",
    "  - authentication\n",
    "  - available shows\n",
    "- real-time analytics\n",
    "  - bidding\n",
    "  - data speeds exceed disk writing\n",
    "  - data deduplication\n",
    "    - remove duplicate data\n",
    "- chatt apps\n",
    "  - create a nabagenebt system\n",
    "  - selective subscriptions\n",
    "- data structures\n",
    "  - geospatial = set of coords\n",
    "  - hyperloglog\n",
    "    - cardinality\n",
    "      - number of relationships between rows of one table with another\n",
    "- data types\n",
    "  - string and hashing are the most commonly used\n",
    "  - string\n",
    "    - `set key value`\n",
    "  - hash\n",
    "    - `hmset userid:seb first Seb team Kuoly`\n",
    "  - list\n",
    "    - doubly linked\n",
    "      - can push easily to the start and end\n",
    "    - `rpush todo \"first\" \"second\"`\n",
    "  - set\n",
    "    - unique unordered string values\n",
    "    - good for joining\n",
    "    - `sadd myset \"first\" \"second\"`\n",
    "  - leaderboard\n",
    "    - `zadd leaderboard 1000 seb 2000 kyle`\n",
    "  - geospacial\n",
    "    - based on unsorted sets\n",
    "    - `geoadd cities 0 0 \"London\"`\n",
    "  - hyperloglog\n",
    "    - meant to estimate cardinality\n",
    "    - has a max of 12k memory\n",
    "    - exceptionally fast\n",
    "    - does not store values\n",
    "    - used for visitor count or ip addresses\n",
    "    - `pfadd pfadd \"first\" \"second\"`\n",
    "# caching patterns"
   ]
  },
  {
   "cell_type": "code",
   "execution_count": 60,
   "metadata": {},
   "outputs": [],
   "source": [
    "import redis\n",
    "r = redis.Redis()"
   ]
  },
  {
   "cell_type": "code",
   "execution_count": 61,
   "metadata": {},
   "outputs": [
    {
     "data": {
      "text/plain": [
       "[b'Canada', b'Bahamas']"
      ]
     },
     "execution_count": 61,
     "metadata": {},
     "output_type": "execute_result"
    }
   ],
   "source": [
    "# hash\n",
    "r.mset({\"Bahamas\":\"Nassau\"})\n",
    "r.get(\"Bahamas\")\n",
    "# string\n",
    "r.set(\"Bahamas\", \"Nassau\")\n",
    "r.get(\"Bahamas\")\n",
    "# sorted set\n",
    "r.zadd(\"countries\", {\"Bahamas\": 1, \"Canada\": 2})\n",
    "r.zrevrange(\"countries\", 0, -1)"
   ]
  },
  {
   "cell_type": "code",
   "execution_count": 62,
   "metadata": {},
   "outputs": [
    {
     "data": {
      "text/plain": [
       "{'Armenia': 'AM', 'Aruba': 'AW', 'Australia': 'AU', 'Austria': 'AT'}"
      ]
     },
     "execution_count": 62,
     "metadata": {},
     "output_type": "execute_result"
    }
   ],
   "source": [
    "# create a fake db\n",
    "data = {\n",
    "  \"countries\": {\n",
    "    \"Armenia\": \"AM\",\n",
    "    \"Aruba\": \"AW\",\n",
    "    \"Australia\": \"AU\",\n",
    "    \"Austria\": \"AT\"\n",
    "  }\n",
    "}\n",
    "data[\"countries\"]"
   ]
  },
  {
   "cell_type": "markdown",
   "metadata": {},
   "source": [
    "- lazy loading"
   ]
  },
  {
   "cell_type": "code",
   "execution_count": 63,
   "metadata": {},
   "outputs": [
    {
     "name": "stdout",
     "output_type": "stream",
     "text": [
      "Australia - cache miss\n"
     ]
    },
    {
     "data": {
      "text/plain": [
       "'AU'"
      ]
     },
     "execution_count": 63,
     "metadata": {},
     "output_type": "execute_result"
    }
   ],
   "source": [
    "# lazy loading\n",
    "def lazy_loading(country):\n",
    "    r_res = r.get(country)\n",
    "    if r_res:\n",
    "        r_res = r_res.decode(\"utf-8\")\n",
    "        print(f\"{country} - cache hit\")\n",
    "        return r_res\n",
    "    else:\n",
    "        print(f\"{country} - cache miss\")\n",
    "        res = data[\"countries\"][country]\n",
    "        r.setex(country, 10, res)\n",
    "        return res\n",
    "lazy_loading(\"Australia\")"
   ]
  },
  {
   "cell_type": "markdown",
   "metadata": {},
   "source": [
    "- write through\n",
    "  - proactivly populating cache as opposed to reactlively\n",
    "  - dynabo DB triggers a lambda function on modification\n",
    "    - update redis\n",
    "  \n",
    "  - advantages\n",
    "    - data is never stale\n",
    "    - write latency is better tolerated by customers\n",
    "  - disadvanrages\n",
    "    - unecessary cached data"
   ]
  },
  {
   "cell_type": "code",
   "execution_count": 64,
   "metadata": {},
   "outputs": [
    {
     "data": {
      "text/plain": [
       "b'22'"
      ]
     },
     "execution_count": 64,
     "metadata": {},
     "output_type": "execute_result"
    }
   ],
   "source": [
    "data_user = {\n",
    "    \"users\": {\n",
    "        \"userid:seb\": {\n",
    "            \"name\": \"Sebastian\",\n",
    "            \"age\": 22,\n",
    "        }\n",
    "    }\n",
    "}\n",
    "r.hset(\"userid:seb\", mapping=data_user[\"users\"][\"userid:seb\"])\n",
    "r.hget(\"userid:seb\", \"age\")"
   ]
  },
  {
   "cell_type": "code",
   "execution_count": 65,
   "metadata": {},
   "outputs": [
    {
     "data": {
      "text/plain": [
       "b'23'"
      ]
     },
     "execution_count": 65,
     "metadata": {},
     "output_type": "execute_result"
    }
   ],
   "source": [
    "# update country code\n",
    "def write_through(user, age):\n",
    "    data_user[\"users\"][user][\"age\"] = age\n",
    "    r.hset(user, \"age\", age)\n",
    "write_through(\"userid:seb\", 23)\n",
    "r.hget(\"userid:seb\", \"age\")\n"
   ]
  },
  {
   "cell_type": "markdown",
   "metadata": {},
   "source": [
    "- you can create redis key pairs with hashed key\n",
    "  - key is a hashed sql query\n",
    "  - value is the result of the query\n",
    "# evictions\n",
    "- lru\n",
    "  - keys evicted to when they were last used\n",
    "- lfu\n",
    "  - approximation of least used\n",
    "- volatile\n",
    "  - only keys with an expiry are evicted\n",
    "  - the rest will be sotred untill they are actively evicted\n",
    "- ttl\n",
    "  - time to live\n",
    "  - must be explicitly assigned\n",
    "  - can be timestamped `exporeat`\n",
    "- expiration storms\n",
    "  - many keys evicted simultaneously\n",
    "# clients\n",
    "- connection pools\n",
    "- exponential back-off\n",
    "  - prevent all customers from reconnecting at the same time\n",
    "# pub-sub\n",
    "- focuses on simplicity of implementation\n",
    "- solves communication between recievers and creators of messages\n",
    "- redis serves as the central messaging system\n",
    "- fire and forget messaging\n",
    "  - once message is sent it is not stored\n",
    "- subscribe \n",
    "  - `psubscribe somekey:*`\n",
    "- publish\n",
    "  - `publish somekey:1 \"hello world\"`\n",
    "- clients must only subscribe to the channels they need to\n",
    "\n",
    "# streams\n",
    "- it is a data structure\n",
    "- high velocity analytics\n",
    "- data can come in at different speeds\n",
    "- can scale horizontally and verically\n",
    "- wont get overwhelmed by data\n",
    "- worker nodes can pull entries from the stream and process them\n",
    "  - could be assigned as autoscaling groups\n",
    "- consumer\n",
    "  - `xread block 0 streams someserver:b $`\n",
    "- producer\n",
    "  - `xadd someserver:a * fan:4:rpm 1500 fan:5:rpm 2000`\n",
    "- data is persisted into a datascructure\n",
    "# global data store\n",
    "- has an active cluster that recieves reads and writes\n",
    "- clusters in other regions read from the active cluster\n",
    "- can failover to secondary clusters\n",
    "  - promotest the secondary cluster\n",
    "- does not work for Pub/Sub\n",
    "  - pub/sub remains regional"
   ]
  },
  {
   "cell_type": "markdown",
   "metadata": {},
   "source": []
  },
  {
   "cell_type": "markdown",
   "metadata": {},
   "source": []
  }
 ],
 "metadata": {
  "kernelspec": {
   "display_name": "Python 3.8.8 ('base')",
   "language": "python",
   "name": "python3"
  },
  "language_info": {
   "codemirror_mode": {
    "name": "ipython",
    "version": 3
   },
   "file_extension": ".py",
   "mimetype": "text/x-python",
   "name": "python",
   "nbconvert_exporter": "python",
   "pygments_lexer": "ipython3",
   "version": "3.8.8"
  },
  "orig_nbformat": 4,
  "vscode": {
   "interpreter": {
    "hash": "6f5583cf1d9466b5c27e75c89cc6b383bed5736d6b16c51c8074d8690011a952"
   }
  }
 },
 "nbformat": 4,
 "nbformat_minor": 2
}
